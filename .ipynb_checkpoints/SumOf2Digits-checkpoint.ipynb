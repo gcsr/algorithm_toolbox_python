{
 "cells": [
  {
   "cell_type": "markdown",
   "id": "dbe142a8-6d76-47e4-9f84-02c908284b1e",
   "metadata": {},
   "source": [
    "function for calculating sum of 2 digits"
   ]
  },
  {
   "cell_type": "code",
   "execution_count": 5,
   "id": "40ece463-cbb8-422b-82d1-4b0b624fe1a4",
   "metadata": {},
   "outputs": [],
   "source": [
    "def sum_of_digits(first, second):\n",
    "    return first+second"
   ]
  },
  {
   "cell_type": "markdown",
   "id": "3eb82243-df3c-472c-9d36-c9d7f1facf3b",
   "metadata": {},
   "source": [
    "Starting line for python execution"
   ]
  },
  {
   "cell_type": "code",
   "execution_count": 6,
   "id": "fe9f80e8-f435-478f-a074-b1ef254cf51e",
   "metadata": {},
   "outputs": [
    {
     "name": "stdin",
     "output_type": "stream",
     "text": [
      " 45 56\n"
     ]
    },
    {
     "name": "stdout",
     "output_type": "stream",
     "text": [
      "101\n"
     ]
    }
   ],
   "source": [
    "if __name__ == '__main__':\n",
    "    a,b = map(int, input().split())\n",
    "    print (sum_of_digits(a, b))"
   ]
  },
  {
   "cell_type": "code",
   "execution_count": null,
   "id": "8b7d4435-9c33-4b4b-acc9-776dac48eb61",
   "metadata": {},
   "outputs": [],
   "source": []
  }
 ],
 "metadata": {
  "kernelspec": {
   "display_name": "Python 3 (ipykernel)",
   "language": "python",
   "name": "python3"
  },
  "language_info": {
   "codemirror_mode": {
    "name": "ipython",
    "version": 3
   },
   "file_extension": ".py",
   "mimetype": "text/x-python",
   "name": "python",
   "nbconvert_exporter": "python",
   "pygments_lexer": "ipython3",
   "version": "3.13.2"
  }
 },
 "nbformat": 4,
 "nbformat_minor": 5
}
