{
 "cells": [
  {
   "cell_type": "markdown",
   "id": "54f50352-36a1-4692-87bc-f16a605a5854",
   "metadata": {},
   "source": [
    "## for loop execution of  fibonacci series"
   ]
  },
  {
   "cell_type": "code",
   "execution_count": null,
   "id": "0e58873b-a6c8-47c6-be5a-b22c763cf265",
   "metadata": {},
   "outputs": [],
   "source": [
    "def fibonacci_number(n):\n",
    "    \n",
    "    "
   ]
  }
 ],
 "metadata": {
  "kernelspec": {
   "display_name": "Python 3 (ipykernel)",
   "language": "python",
   "name": "python3"
  },
  "language_info": {
   "codemirror_mode": {
    "name": "ipython",
    "version": 3
   },
   "file_extension": ".py",
   "mimetype": "text/x-python",
   "name": "python",
   "nbconvert_exporter": "python",
   "pygments_lexer": "ipython3",
   "version": "3.13.2"
  }
 },
 "nbformat": 4,
 "nbformat_minor": 5
}
