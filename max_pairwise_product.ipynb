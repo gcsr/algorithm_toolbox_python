{
 "cells": [
  {
   "cell_type": "markdown",
   "id": "0c20953b-f083-4b73-9973-40d528d9b983",
   "metadata": {},
   "source": [
    "## Find the maximum element from list which is not passed variable"
   ]
  },
  {
   "cell_type": "code",
   "execution_count": 93,
   "id": "0bd768d0-5bc7-498f-bdf0-b32d563facfd",
   "metadata": {},
   "outputs": [],
   "source": [
    "def findMaxNotEquals(numbers, highest):\n",
    "    secondMax = -1\n",
    "    counter = 0\n",
    "    for x in numbers:\n",
    "        if (x == highest):\n",
    "            counter += 1\n",
    "        if (x != highest and x > secondMax):\n",
    "            secondMax = x\n",
    "    return highest if counter > 1 else secondMax"
   ]
  },
  {
   "cell_type": "markdown",
   "id": "75e61d93-342f-4811-8f0d-7a5df39721a8",
   "metadata": {},
   "source": [
    "## Find the first 2 largest numbers"
   ]
  },
  {
   "cell_type": "code",
   "execution_count": 94,
   "id": "98c1f285-f46d-466f-adb1-82c8eac44c41",
   "metadata": {},
   "outputs": [],
   "source": [
    "def find_first_second_largest_numbers(numbers):\n",
    "    biggest = max(numbers);\n",
    "    secondBiggest = findMaxNotEquals(numbers, biggest);\n",
    "    return [biggest, secondBiggest]"
   ]
  },
  {
   "cell_type": "code",
   "execution_count": 95,
   "id": "17a5d8be-3703-4a8c-977e-d42ad6692cfe",
   "metadata": {},
   "outputs": [],
   "source": [
    "## find the product of first 2 larget numbers of array"
   ]
  },
  {
   "cell_type": "code",
   "execution_count": 96,
   "id": "31b28ece-1189-44c9-a755-b57347f1219a",
   "metadata": {},
   "outputs": [],
   "source": [
    "def max_pairwise_product(numbers):\n",
    "    first_two_elements = find_first_second_largest_numbers(numbers)\n",
    "    return first_two_elements[1] * first_two_elements[0]"
   ]
  },
  {
   "cell_type": "code",
   "execution_count": 97,
   "id": "91328de3-74aa-4d6a-baa8-dfbdb6f45c10",
   "metadata": {},
   "outputs": [
    {
     "name": "stdin",
     "output_type": "stream",
     "text": [
      " 6\n",
      " 3 5 5 3 2\n"
     ]
    },
    {
     "name": "stdout",
     "output_type": "stream",
     "text": [
      "25\n"
     ]
    }
   ],
   "source": [
    "# main function\n",
    "if __name__ == '__main__':\n",
    "    _ = int(input())\n",
    "    input_numbers = list(map(int, input().split()))\n",
    "    print(max_pairwise_product(input_numbers))\n"
   ]
  },
  {
   "cell_type": "code",
   "execution_count": null,
   "id": "3cbb604a-1363-4710-a269-ee28df352ee9",
   "metadata": {},
   "outputs": [],
   "source": []
  }
 ],
 "metadata": {
  "kernelspec": {
   "display_name": "Python 3 (ipykernel)",
   "language": "python",
   "name": "python3"
  },
  "language_info": {
   "codemirror_mode": {
    "name": "ipython",
    "version": 3
   },
   "file_extension": ".py",
   "mimetype": "text/x-python",
   "name": "python",
   "nbconvert_exporter": "python",
   "pygments_lexer": "ipython3",
   "version": "3.13.2"
  }
 },
 "nbformat": 4,
 "nbformat_minor": 5
}
